{
  "cells": [
    {
      "cell_type": "markdown",
      "id": "25d7736c-ba17-4aff-b6bb-66eba20fbf4e",
      "metadata": {
        "id": "25d7736c-ba17-4aff-b6bb-66eba20fbf4e"
      },
      "source": [
        "# Lab | List, Dict and Set Comprehension"
      ]
    },
    {
      "cell_type": "markdown",
      "id": "7dd3cbde-675a-4b81-92c3-f728846dbe06",
      "metadata": {
        "id": "7dd3cbde-675a-4b81-92c3-f728846dbe06"
      },
      "source": [
        "## Exercise: Managing Customer Orders Optimized with Comprehension"
      ]
    },
    {
      "cell_type": "markdown",
      "id": "5d500160-2fb7-4777-b5e4-09d45ebaf328",
      "metadata": {
        "id": "5d500160-2fb7-4777-b5e4-09d45ebaf328"
      },
      "source": [
        "In the previous exercise, you developed a program to manage customer orders and inventory. Now, let's take it a step further and incorporate comprehension into your code.\n",
        "\n",
        "Follow the steps below to complete the exercise:\n",
        "\n",
        "1. Review your code from the previous exercise and identify areas where you can apply comprehension to simplify and streamline your code.\n",
        "\n",
        "    - *Hint: Apply it to initialize inventory, updating the inventory and printing the updated inventory.*\n",
        "    \n",
        "    - For example, in initializing the inventory, we could have:\n",
        "    \n",
        "        ```python\n",
        "        def initialize_inventory(products):\n",
        "            inventory = {product: int(input(f\"Enter the quantity of {product}s available: \")) for product in products}\n",
        "            return inventory\n",
        "\n",
        "        ```\n",
        "<br>\n",
        "    \n",
        "    \n",
        "2. Modify the function get_customer_orders so it prompts the user to enter the number of customer orders and gathers the product names using a loop and user input. Use comprehension.\n",
        "\n",
        "3. Add a new function to calculate the total price of the customer order. For each product in customer_orders, prompt the user to enter the price of that product. Use comprehension to calculate the total price. Note: assume that the user can only have 1 unit of each product.\n",
        "\n",
        "4. Modify the update_inventory function to remove the product from the inventory if its quantity becomes zero after fulfilling the customer orders. Use comprehension to filter out the products with a quantity of zero from the inventory.\n",
        "\n",
        "5. Print the total price of the customer order.\n",
        "\n",
        "Your code should produce output similar to the following:\n",
        "\n",
        "```python\n",
        "Enter the quantity of t-shirts available:  5\n",
        "Enter the quantity of mugs available:  4\n",
        "Enter the quantity of hats available:  3\n",
        "Enter the quantity of books available:  2\n",
        "Enter the quantity of keychains available:  1\n",
        "Enter the number of customer orders:  2\n",
        "Enter the name of a product that a customer wants to order:  hat\n",
        "Enter the name of a product that a customer wants to order:  keychain\n",
        "\n",
        "Order Statistics:\n",
        "Total Products Ordered: 2\n",
        "Percentage of Unique Products Ordered: 40.0\n",
        "\n",
        "Updated Inventory:\n",
        "t-shirt: 5\n",
        "mug: 4\n",
        "hat: 2\n",
        "book: 2\n",
        "Enter the price of keychain:  5\n",
        "Enter the price of hat:  10\n",
        "Total Price: 15.0\n",
        "\n",
        "```\n"
      ]
    },
    {
      "cell_type": "markdown",
      "source": [
        "1- Review your code from the previous exercise and identify areas where you can apply comprehension to simplify and streamline your code.\n",
        "Hint: Apply it to initialize inventory, updating the inventory and printing the updated inventory.\n"
      ],
      "metadata": {
        "id": "T8UM51DL3jxK"
      },
      "id": "T8UM51DL3jxK"
    },
    {
      "cell_type": "code",
      "source": [
        "products = [\"t-shirt\", \"mug\", \"hat\", \"book\", \"keychain\"]\n",
        "inventory = {}\n",
        "\n",
        "\n",
        "def initialize_inventory (products):\n",
        "  for product in products:\n",
        "    quantity = int(input(f'Please input the number of products {product}: '))\n",
        "    inventory[product] = quantity\n",
        "  return inventory\n",
        "inventory = initialize_inventory(products)\n",
        "\n",
        "print(inventory)"
      ],
      "metadata": {
        "colab": {
          "base_uri": "https://localhost:8080/"
        },
        "id": "vxkWYBz4pY2W",
        "outputId": "78e2d7ac-2208-45e9-d3fc-2e2f821a60ec"
      },
      "id": "vxkWYBz4pY2W",
      "execution_count": 14,
      "outputs": [
        {
          "output_type": "stream",
          "name": "stdout",
          "text": [
            "Please input the number of products t-shirt: 4\n",
            "Please input the number of products mug: 5\n",
            "Please input the number of products hat: 6\n",
            "Please input the number of products book: 7\n",
            "Please input the number of products keychain: 8\n",
            "{'t-shirt': 4, 'mug': 5, 'hat': 6, 'book': 7, 'keychain': 8}\n"
          ]
        }
      ]
    },
    {
      "cell_type": "code",
      "source": [
        "def initialize_inventory(products):\n",
        "    inventory = {product: int(input(f\"Enter the quantity of {product}s available: \")) for product in products}\n",
        "    return inventory\n",
        "\n",
        "inventory = initialize_inventory(products)\n",
        "print(inventory)"
      ],
      "metadata": {
        "colab": {
          "base_uri": "https://localhost:8080/"
        },
        "id": "dlyhQQd9poSq",
        "outputId": "a6d018b1-8061-4a52-9117-763fb78be2b8"
      },
      "id": "dlyhQQd9poSq",
      "execution_count": 15,
      "outputs": [
        {
          "output_type": "stream",
          "name": "stdout",
          "text": [
            "Enter the quantity of t-shirts available: 4\n",
            "Enter the quantity of mugs available: 5\n",
            "Enter the quantity of hats available: 6\n",
            "Enter the quantity of books available: 7\n",
            "Enter the quantity of keychains available: 8\n",
            "{'t-shirt': 4, 'mug': 5, 'hat': 6, 'book': 7, 'keychain': 8}\n"
          ]
        }
      ]
    },
    {
      "cell_type": "code",
      "source": [
        "# Fred, my intention here was to create an initial inventory, make order and then create the updated inventory after the order. I just got lost in the code.\n",
        "\n",
        "def update_inventory(inventory, product, quantity_to_deduct):\n",
        "    if product in inventory and inventory[product] >= quantity_to_deduct:\n",
        "        inventory[product] -= quantity_to_deduct\n",
        "        print(f\"Order for {quantity_to_deduct} {product}(s) completed. Updated inventory:\")\n",
        "    else:\n",
        "        print(f\"Error: Not enough {product}(s) in stock. Inventory remains unchanged.\")\n",
        "\n",
        "    return inventory\n",
        "\n",
        "product_to_deduct = \"t-shirt\",  \"book\"\n",
        "quantity_to_deduct =\n",
        "\n",
        "inventory = update_inventory(inventory, product_to_deduct, quantity_to_deduct)\n",
        "print(inventory)\n"
      ],
      "metadata": {
        "colab": {
          "base_uri": "https://localhost:8080/"
        },
        "id": "v3oPe6R_prRG",
        "outputId": "4f80969a-d24b-4e4b-b83e-8d9788b22805"
      },
      "id": "v3oPe6R_prRG",
      "execution_count": 18,
      "outputs": [
        {
          "output_type": "stream",
          "name": "stdout",
          "text": [
            "Error: Not enough ('t-shirt', 'book')(s) in stock. Inventory remains unchanged.\n",
            "{'t-shirt': 4, 'mug': 5, 'hat': 6, 'book': 7, 'keychain': 8}\n"
          ]
        }
      ]
    },
    {
      "cell_type": "markdown",
      "source": [
        "2- Modify the function get_customer_orders so it prompts the user to enter the number of customer orders and gathers the product names using a loop and user input. Use comprehension."
      ],
      "metadata": {
        "id": "KrRepTTl34Hw"
      },
      "id": "KrRepTTl34Hw"
    },
    {
      "cell_type": "code",
      "source": [
        "def get_customer_orders(products):\n",
        "    num_orders = int(input(\"Enter the number of customer orders: \"))\n",
        "\n",
        "    orders = [input(f\"Enter product name for order {item + 1}: \") for item in range(num_orders)]\n",
        "\n",
        "    customer_orders = {product: orders.count(product) for product in set(orders)}\n",
        "    return customer_orders\n",
        "customer_orders = get_customer_orders(products)\n",
        "print(customer_orders)\n"
      ],
      "metadata": {
        "colab": {
          "base_uri": "https://localhost:8080/"
        },
        "id": "hRo-MS0ExzWT",
        "outputId": "cbc017fc-08e5-4d9d-99af-451a80ce1529"
      },
      "id": "hRo-MS0ExzWT",
      "execution_count": 24,
      "outputs": [
        {
          "output_type": "stream",
          "name": "stdout",
          "text": [
            "Enter the number of customer orders: 2\n",
            "Enter product name for order 1: book\n",
            "Enter product name for order 2: hut\n",
            "{'hut': 1, 'book': 1}\n"
          ]
        }
      ]
    },
    {
      "cell_type": "markdown",
      "source": [
        "3- Add a new function to calculate the total price of the customer order. For each product in customer_orders, prompt the user to enter the price of that product. Use comprehension to calculate the total price. Note: assume that the user can only have 1 unit of each product."
      ],
      "metadata": {
        "id": "0RbihEqz4Beq"
      },
      "id": "0RbihEqz4Beq"
    },
    {
      "cell_type": "code",
      "source": [
        "def final_price(customer_orders):\n",
        "    final_price = [int(input(f\"How much the {product} cost? \")) for product in customer_orders]\n",
        "\n",
        "    return sum(final_price)\n",
        "\n",
        "final_price(customer_orders)"
      ],
      "metadata": {
        "colab": {
          "base_uri": "https://localhost:8080/"
        },
        "id": "lJmUFW_s11nD",
        "outputId": "598f2555-b31c-4b12-9e70-dfe611380811"
      },
      "id": "lJmUFW_s11nD",
      "execution_count": 37,
      "outputs": [
        {
          "name": "stdout",
          "output_type": "stream",
          "text": [
            "How much the hut cost? 5\n",
            "How much the book cost? 3\n"
          ]
        },
        {
          "output_type": "execute_result",
          "data": {
            "text/plain": [
              "8"
            ]
          },
          "metadata": {},
          "execution_count": 37
        }
      ]
    },
    {
      "cell_type": "markdown",
      "source": [
        "4- Modify the update_inventory function to remove the product from the inventory if its quantity becomes zero after fulfilling the customer orders. Use comprehension to filter out the products with a quantity of zero from the inventory."
      ],
      "metadata": {
        "id": "yqOtm2se4Dtb"
      },
      "id": "yqOtm2se4Dtb"
    },
    {
      "cell_type": "code",
      "source": [
        "def update_inventory(cust_ord, invent):\n",
        "    invent = {item:invent[item]-int(input(f\"How many {item} do you want \")) if item in cust_ord else invent[item] for item in invent}\n",
        "    updated_inventory = {item: qty for item, qty in invent.items() if qty > 0}\n",
        "    return updated_inventory\n",
        "\n",
        "update_inventory(customer_orders, inventory)"
      ],
      "metadata": {
        "colab": {
          "base_uri": "https://localhost:8080/"
        },
        "id": "dV1YfQbK2lGU",
        "outputId": "9f4deae4-4f52-4524-b106-f949fbe6e5cc"
      },
      "id": "dV1YfQbK2lGU",
      "execution_count": 44,
      "outputs": [
        {
          "name": "stdout",
          "output_type": "stream",
          "text": [
            "How many book do you want 3\n"
          ]
        },
        {
          "output_type": "execute_result",
          "data": {
            "text/plain": [
              "{'t-shirt': 1, 'mug': 5, 'hat': 6, 'book': 4, 'keychain': 8}"
            ]
          },
          "metadata": {},
          "execution_count": 44
        }
      ]
    },
    {
      "cell_type": "markdown",
      "source": [
        "5- Print the total price of the customer order."
      ],
      "metadata": {
        "id": "gtvsEz4e5l93"
      },
      "id": "gtvsEz4e5l93"
    },
    {
      "cell_type": "code",
      "source": [
        "print(f\"The final price of your order is {final_price(customer_orders)}\")"
      ],
      "metadata": {
        "colab": {
          "base_uri": "https://localhost:8080/"
        },
        "id": "ArUNB0PB4xDy",
        "outputId": "7a7d7d5b-e302-40ca-d269-8db44fcc0f4a"
      },
      "id": "ArUNB0PB4xDy",
      "execution_count": 45,
      "outputs": [
        {
          "output_type": "stream",
          "name": "stdout",
          "text": [
            "How much the hut cost? 10\n",
            "How much the book cost? 3\n",
            "The final price of your order is 13\n"
          ]
        }
      ]
    },
    {
      "cell_type": "code",
      "source": [],
      "metadata": {
        "id": "QgjlbX2x5U9F"
      },
      "id": "QgjlbX2x5U9F",
      "execution_count": null,
      "outputs": []
    }
  ],
  "metadata": {
    "kernelspec": {
      "display_name": "Python 3 (ipykernel)",
      "language": "python",
      "name": "python3"
    },
    "language_info": {
      "codemirror_mode": {
        "name": "ipython",
        "version": 3
      },
      "file_extension": ".py",
      "mimetype": "text/x-python",
      "name": "python",
      "nbconvert_exporter": "python",
      "pygments_lexer": "ipython3",
      "version": "3.9.13"
    },
    "colab": {
      "provenance": []
    }
  },
  "nbformat": 4,
  "nbformat_minor": 5
}